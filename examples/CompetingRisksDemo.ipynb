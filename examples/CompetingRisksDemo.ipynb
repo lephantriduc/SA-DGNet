{
 "cells": [
  {
   "cell_type": "code",
   "execution_count": null,
   "id": "7b46f6f6",
   "metadata": {},
   "outputs": [],
   "source": [
    "import sys\n",
    "sys.path.append(\"../\")\n",
    "import pandas as pd\n",
    "from sklearn.model_selection import KFold, train_test_split\n",
    "from sklearn.preprocessing import StandardScaler, OneHotEncoder\n",
    "from sklearn_pandas import DataFrameMapper\n",
    "from SADGNet import SADGNetCRs\n",
    "from skopt import BayesSearchCV"
   ]
  },
  {
   "cell_type": "code",
   "execution_count": null,
   "id": "d74518e7",
   "metadata": {},
   "outputs": [],
   "source": [
    "# Competing risks dataset 0:right-censored 1:event1 2:event2\n",
    "data = pd.read_excel(\"./data/SEER_CRC_CRs.xlsx\",sheet_name='Sheet1')\n",
    "feature_list = list(data.columns)\n",
    "feature_list.remove('times')\n",
    "feature_list.remove('events')\n",
    "data_x = data[feature_list].copy()\n",
    "data_label = data[['times', 'events']].copy()\n",
    "x_train, x_test, y_train, y_test = train_test_split(data_x, data_label, test_size=0.2, stratify=data_label['events'],random_state=2024)\n",
    "print(x_train.shape)\n",
    "print(x_test.shape)"
   ]
  },
  {
   "cell_type": "code",
   "execution_count": null,
   "id": "027d89f2",
   "metadata": {},
   "outputs": [],
   "source": [
    "cols_standardize = ['age', 'positivelymph']\n",
    "cols_leave = ['race', 'site', 'histology', 'grade', 'T', 'N', 'M', 'surgery', 'radiation']\n",
    "standardize = [([col], StandardScaler()) for col in cols_standardize]\n",
    "leave = [([col], OneHotEncoder(handle_unknown='ignore', drop='first')) for col in cols_leave]\n",
    "x_mapper = DataFrameMapper(standardize + leave)\n",
    "x_mapper = x_mapper.fit(x_train)\n",
    "x_train = x_mapper.fit_transform(x_train).astype('float32')\n",
    "x_test = x_mapper.transform(x_test).astype('float32')\n",
    "y_train = y_train.values\n",
    "y_test = y_test.values"
   ]
  },
  {
   "cell_type": "code",
   "execution_count": null,
   "id": "c515d839",
   "metadata": {},
   "outputs": [],
   "source": [
    "# Tuning hyperparameters\n",
    "kfold = KFold(n_splits=5, shuffle=True, random_state=2024)\n",
    "opt = BayesSearchCV(\n",
    "    SADGNetCRs(),\n",
    "    {\n",
    "        'learning_rate': (1e-4, 0.01, 'log-uniform'),\n",
    "        'dropout': [0.5],\n",
    "        'batch_size': [512],\n",
    "        'num_layers': [1, 2, 3],\n",
    "        'hidden_dim': [32, 64, 128],\n",
    "        'embedding_dim': [32, 64, 128],\n",
    "        'time_interval': [3, 6, 9],\n",
    "        'lambda1': [0.5, 1.0, 5.0],\n",
    "        'lambda2': [1.0, 5.0, 10.0],\n",
    "        'lambda3': [0.01, 0.1],\n",
    "        'trans_layer': [1, 2, 3],\n",
    "        'alpha': [0.5, 1.0, 5.0]\n",
    "    },\n",
    "    n_iter=30,\n",
    "    cv=kfold,\n",
    "    n_jobs=4\n",
    ")\n",
    "opt.fit(x_train, y_train)\n",
    "print(\"The best hyperparameters: %s\" % opt.best_params_)"
   ]
  },
  {
   "cell_type": "code",
   "execution_count": null,
   "id": "db8d2419",
   "metadata": {},
   "outputs": [],
   "source": [
    "model = SADGNetCRs(**opt.best_params_)\n",
    "model.fit(x_train, y_train)\n",
    "c_td_1 = model.get_c_index(x_test, y_test)[0]\n",
    "mae_1 = model.get_mae(x_test, y_test)[0]\n",
    "c_td_2 = model.get_c_index(x_test, y_test)[1]\n",
    "mae_2 = model.get_mae(x_test, y_test)[1]\n",
    "print(\"The C^td for event1 is %.3f\" % c_td_1)\n",
    "print(\"The MAE for event1 is %.3f\" % mae_1)\n",
    "print(\"The C^td for event2 is %.3f\" % c_td_2)\n",
    "print(\"The MAE for event2 is %.3f\" % mae_2)"
   ]
  },
  {
   "cell_type": "code",
   "execution_count": null,
   "id": "2a50eaa7",
   "metadata": {},
   "outputs": [],
   "source": []
  }
 ],
 "metadata": {
  "kernelspec": {
   "display_name": "Python [conda env:CRC] *",
   "language": "python",
   "name": "conda-env-CRC-py"
  },
  "language_info": {
   "codemirror_mode": {
    "name": "ipython",
    "version": 3
   },
   "file_extension": ".py",
   "mimetype": "text/x-python",
   "name": "python",
   "nbconvert_exporter": "python",
   "pygments_lexer": "ipython3",
   "version": "3.8.16"
  }
 },
 "nbformat": 4,
 "nbformat_minor": 5
}
